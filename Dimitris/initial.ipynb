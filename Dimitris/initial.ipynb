{
 "cells": [
  {
   "cell_type": "markdown",
   "metadata": {},
   "source": [
    "### Load the training and test data"
   ]
  },
  {
   "cell_type": "code",
   "execution_count": 1,
   "metadata": {},
   "outputs": [
    {
     "data": {
      "text/html": [
       "<div>\n",
       "<style scoped>\n",
       "    .dataframe tbody tr th:only-of-type {\n",
       "        vertical-align: middle;\n",
       "    }\n",
       "\n",
       "    .dataframe tbody tr th {\n",
       "        vertical-align: top;\n",
       "    }\n",
       "\n",
       "    .dataframe thead th {\n",
       "        text-align: right;\n",
       "    }\n",
       "</style>\n",
       "<table border=\"1\" class=\"dataframe\">\n",
       "  <thead>\n",
       "    <tr style=\"text-align: right;\">\n",
       "      <th></th>\n",
       "      <th>Unnamed: 0</th>\n",
       "      <th>id</th>\n",
       "      <th>name</th>\n",
       "      <th>brand</th>\n",
       "      <th>base_name</th>\n",
       "      <th>screen_size</th>\n",
       "      <th>pixels_x</th>\n",
       "      <th>pixels_y</th>\n",
       "      <th>screen_surface</th>\n",
       "      <th>touchscreen</th>\n",
       "      <th>...</th>\n",
       "      <th>cpu_details</th>\n",
       "      <th>detachable_keyboard</th>\n",
       "      <th>discrete_gpu</th>\n",
       "      <th>gpu</th>\n",
       "      <th>os</th>\n",
       "      <th>os_details</th>\n",
       "      <th>ram</th>\n",
       "      <th>ssd</th>\n",
       "      <th>storage</th>\n",
       "      <th>weight</th>\n",
       "    </tr>\n",
       "  </thead>\n",
       "  <tbody>\n",
       "    <tr>\n",
       "      <th>0</th>\n",
       "      <td>174</td>\n",
       "      <td>30511</td>\n",
       "      <td>Dell Inspiron 15 5593: 10th Gen Core i5-1035G1...</td>\n",
       "      <td>Dell</td>\n",
       "      <td>Dell Inspiron 5593</td>\n",
       "      <td>15.6</td>\n",
       "      <td>1920</td>\n",
       "      <td>1080</td>\n",
       "      <td>Matte</td>\n",
       "      <td>0</td>\n",
       "      <td>...</td>\n",
       "      <td>Intel Core i5-1035G1 1.0 GHz (10th gen Ice Lak...</td>\n",
       "      <td>0.0</td>\n",
       "      <td>0</td>\n",
       "      <td>Intel UHD</td>\n",
       "      <td>Windows</td>\n",
       "      <td>Windows 10 Home</td>\n",
       "      <td>8</td>\n",
       "      <td>256</td>\n",
       "      <td>256</td>\n",
       "      <td>4.52</td>\n",
       "    </tr>\n",
       "    <tr>\n",
       "      <th>1</th>\n",
       "      <td>231</td>\n",
       "      <td>22136</td>\n",
       "      <td>ASUS ROG Zephyrus GX501 Ultra Slim Gaming Lapt...</td>\n",
       "      <td>Asus</td>\n",
       "      <td>Asus ROG Zephyrus GX501</td>\n",
       "      <td>15.6</td>\n",
       "      <td>1920</td>\n",
       "      <td>1080</td>\n",
       "      <td>Matte</td>\n",
       "      <td>0</td>\n",
       "      <td>...</td>\n",
       "      <td>Intel Core i7-8750H 2.2 GHz (8th gen Coffee La...</td>\n",
       "      <td>0.0</td>\n",
       "      <td>1</td>\n",
       "      <td>NVIDIA GeForce GTX 1080</td>\n",
       "      <td>Windows</td>\n",
       "      <td>Windows 10 Pro</td>\n",
       "      <td>16</td>\n",
       "      <td>512</td>\n",
       "      <td>512</td>\n",
       "      <td>5.00</td>\n",
       "    </tr>\n",
       "    <tr>\n",
       "      <th>2</th>\n",
       "      <td>439</td>\n",
       "      <td>26958</td>\n",
       "      <td>Apple MacBook Air MJVE2LL/A 13-inch Laptop 1.6...</td>\n",
       "      <td>Apple</td>\n",
       "      <td>Apple MacBook Air 2015</td>\n",
       "      <td>13.3</td>\n",
       "      <td>1440</td>\n",
       "      <td>900</td>\n",
       "      <td>Glossy</td>\n",
       "      <td>0</td>\n",
       "      <td>...</td>\n",
       "      <td>Intel Core i5-5250U 1.6 GHz (5th gen Broadwell...</td>\n",
       "      <td>0.0</td>\n",
       "      <td>0</td>\n",
       "      <td>Intel HD 6000</td>\n",
       "      <td>macOS</td>\n",
       "      <td>OS X El Capitan</td>\n",
       "      <td>8</td>\n",
       "      <td>128</td>\n",
       "      <td>128</td>\n",
       "      <td>2.96</td>\n",
       "    </tr>\n",
       "    <tr>\n",
       "      <th>3</th>\n",
       "      <td>262</td>\n",
       "      <td>8282</td>\n",
       "      <td>ASUS ZenBook UX305CA-EHM1 Laptop (Windows 10, ...</td>\n",
       "      <td>Asus</td>\n",
       "      <td>Asus ZenBook UX305CA-EHM1</td>\n",
       "      <td>13.3</td>\n",
       "      <td>1920</td>\n",
       "      <td>1080</td>\n",
       "      <td>Matte</td>\n",
       "      <td>0</td>\n",
       "      <td>...</td>\n",
       "      <td>Intel Core m3-6Y30 0.9 GHz (6th gen Skylake Du...</td>\n",
       "      <td>0.0</td>\n",
       "      <td>0</td>\n",
       "      <td>Intel HD</td>\n",
       "      <td>Windows</td>\n",
       "      <td>Windows 10</td>\n",
       "      <td>8</td>\n",
       "      <td>256</td>\n",
       "      <td>256</td>\n",
       "      <td>2.65</td>\n",
       "    </tr>\n",
       "    <tr>\n",
       "      <th>4</th>\n",
       "      <td>307</td>\n",
       "      <td>29844</td>\n",
       "      <td>Lenovo 100E Chromebook 2ND Gen Laptop, 11.6\" H...</td>\n",
       "      <td>Lenovo</td>\n",
       "      <td>Lenovo 100e Chromebook (2nd Generation)</td>\n",
       "      <td>11.6</td>\n",
       "      <td>1366</td>\n",
       "      <td>768</td>\n",
       "      <td>Matte</td>\n",
       "      <td>0</td>\n",
       "      <td>...</td>\n",
       "      <td>MediaTek MT8173C 2.1 GHz (Quad-Core)</td>\n",
       "      <td>0.0</td>\n",
       "      <td>0</td>\n",
       "      <td>Imagination PowerVR GX6250</td>\n",
       "      <td>Chrome OS</td>\n",
       "      <td>Chrome OS</td>\n",
       "      <td>4</td>\n",
       "      <td>16</td>\n",
       "      <td>16</td>\n",
       "      <td>2.68</td>\n",
       "    </tr>\n",
       "  </tbody>\n",
       "</table>\n",
       "<p>5 rows × 21 columns</p>\n",
       "</div>"
      ],
      "text/plain": [
       "   Unnamed: 0     id                                               name  \\\n",
       "0         174  30511  Dell Inspiron 15 5593: 10th Gen Core i5-1035G1...   \n",
       "1         231  22136  ASUS ROG Zephyrus GX501 Ultra Slim Gaming Lapt...   \n",
       "2         439  26958  Apple MacBook Air MJVE2LL/A 13-inch Laptop 1.6...   \n",
       "3         262   8282  ASUS ZenBook UX305CA-EHM1 Laptop (Windows 10, ...   \n",
       "4         307  29844  Lenovo 100E Chromebook 2ND Gen Laptop, 11.6\" H...   \n",
       "\n",
       "    brand                                base_name  screen_size  pixels_x  \\\n",
       "0    Dell                       Dell Inspiron 5593         15.6      1920   \n",
       "1    Asus                  Asus ROG Zephyrus GX501         15.6      1920   \n",
       "2   Apple                   Apple MacBook Air 2015         13.3      1440   \n",
       "3    Asus                Asus ZenBook UX305CA-EHM1         13.3      1920   \n",
       "4  Lenovo  Lenovo 100e Chromebook (2nd Generation)         11.6      1366   \n",
       "\n",
       "   pixels_y screen_surface  touchscreen  ...  \\\n",
       "0      1080          Matte            0  ...   \n",
       "1      1080          Matte            0  ...   \n",
       "2       900         Glossy            0  ...   \n",
       "3      1080          Matte            0  ...   \n",
       "4       768          Matte            0  ...   \n",
       "\n",
       "                                         cpu_details detachable_keyboard  \\\n",
       "0  Intel Core i5-1035G1 1.0 GHz (10th gen Ice Lak...                 0.0   \n",
       "1  Intel Core i7-8750H 2.2 GHz (8th gen Coffee La...                 0.0   \n",
       "2  Intel Core i5-5250U 1.6 GHz (5th gen Broadwell...                 0.0   \n",
       "3  Intel Core m3-6Y30 0.9 GHz (6th gen Skylake Du...                 0.0   \n",
       "4               MediaTek MT8173C 2.1 GHz (Quad-Core)                 0.0   \n",
       "\n",
       "   discrete_gpu                         gpu         os       os_details ram  \\\n",
       "0             0                   Intel UHD    Windows  Windows 10 Home   8   \n",
       "1             1     NVIDIA GeForce GTX 1080    Windows   Windows 10 Pro  16   \n",
       "2             0               Intel HD 6000      macOS  OS X El Capitan   8   \n",
       "3             0                    Intel HD    Windows       Windows 10   8   \n",
       "4             0  Imagination PowerVR GX6250  Chrome OS        Chrome OS   4   \n",
       "\n",
       "   ssd  storage  weight  \n",
       "0  256      256    4.52  \n",
       "1  512      512    5.00  \n",
       "2  128      128    2.96  \n",
       "3  256      256    2.65  \n",
       "4   16       16    2.68  \n",
       "\n",
       "[5 rows x 21 columns]"
      ]
     },
     "execution_count": 1,
     "metadata": {},
     "output_type": "execute_result"
    }
   ],
   "source": [
    "import os.path as path\n",
    "import pandas as pd\n",
    "import numpy as np\n",
    "\n",
    "train_data_path = path.join(path.pardir, 'new_train.csv')\n",
    "data = pd.read_csv(train_data_path)\n",
    "X_train = data.drop(['min_price', 'max_price'], axis = 1)\n",
    "y_train = data[['min_price', 'max_price']]\n",
    "\n",
    "test_data_path = path.join(path.pardir, 'new_test.csv')\n",
    "data = pd.read_csv(test_data_path)\n",
    "X_test = data.drop(['min_price', 'max_price'], axis = 1)\n",
    "y_test = data[['min_price', 'max_price']]\n",
    "\n",
    "X_train.head()"
   ]
  },
  {
   "cell_type": "markdown",
   "metadata": {},
   "source": [
    "### Feature engineering pipeline"
   ]
  },
  {
   "cell_type": "markdown",
   "metadata": {},
   "source": [
    "#### Add `screen_ratio` column"
   ]
  },
  {
   "cell_type": "code",
   "execution_count": 2,
   "metadata": {},
   "outputs": [
    {
     "data": {
      "text/plain": [
       "0    1.777778\n",
       "1    1.777778\n",
       "2    1.600000\n",
       "3    1.777778\n",
       "4    1.778646\n",
       "Name: screen_ratio, dtype: float64"
      ]
     },
     "execution_count": 2,
     "metadata": {},
     "output_type": "execute_result"
    }
   ],
   "source": [
    "def add_screen_ratio_column(df):\n",
    "    df['screen_ratio'] = df['pixels_x'] / df['pixels_y']\n",
    "\n",
    "df = X_train.copy()\n",
    "add_screen_ratio_column(df)\n",
    "df['screen_ratio'].head()"
   ]
  },
  {
   "cell_type": "markdown",
   "metadata": {},
   "source": [
    "#### Add `clock_speed` column"
   ]
  },
  {
   "cell_type": "code",
   "execution_count": 3,
   "metadata": {},
   "outputs": [
    {
     "data": {
      "text/plain": [
       "0    1.0\n",
       "1    2.2\n",
       "2    1.6\n",
       "3    0.9\n",
       "4    2.1\n",
       "Name: clock_speed, dtype: float64"
      ]
     },
     "execution_count": 3,
     "metadata": {},
     "output_type": "execute_result"
    }
   ],
   "source": [
    "def add_clock_speed_column(df):\n",
    "    df['clock_speed'] = df['cpu_details'].str.extract('(\\d+.\\d+) GHz')\n",
    "    df['clock_speed'] = pd.to_numeric(df['clock_speed'])\n",
    "\n",
    "df = X_train.copy()\n",
    "add_clock_speed_column(df)\n",
    "df['clock_speed'].head()"
   ]
  },
  {
   "cell_type": "markdown",
   "metadata": {},
   "source": [
    "#### Add `cpu_gen` column"
   ]
  },
  {
   "cell_type": "code",
   "execution_count": 4,
   "metadata": {},
   "outputs": [
    {
     "name": "stdout",
     "output_type": "stream",
     "text": [
      "25\n",
      "136\n"
     ]
    },
    {
     "data": {
      "text/plain": [
       "0    10.0\n",
       "1     8.0\n",
       "2     5.0\n",
       "3     6.0\n",
       "4     NaN\n",
       "Name: cpu_gen, dtype: float64"
      ]
     },
     "execution_count": 4,
     "metadata": {},
     "output_type": "execute_result"
    }
   ],
   "source": [
    "def add_cpu_gen_column(df):\n",
    "    df['cpu_gen'] = df['cpu_details'].str.extract('(\\d+)th gen')\n",
    "    df['cpu_gen'] = pd.to_numeric(df['cpu_gen'])\n",
    "\n",
    "df = X_train.copy()\n",
    "print(df.isnull().values.sum())\n",
    "add_cpu_gen_column(df)\n",
    "print(df.isnull().values.sum())\n",
    "df['cpu_gen'].head()"
   ]
  },
  {
   "cell_type": "markdown",
   "metadata": {},
   "source": [
    "####  Add `glossy_screen` column "
   ]
  },
  {
   "cell_type": "code",
   "execution_count": 5,
   "metadata": {},
   "outputs": [
    {
     "name": "stdout",
     "output_type": "stream",
     "text": [
      "25\n",
      "35\n"
     ]
    },
    {
     "data": {
      "text/plain": [
       "0    0.0\n",
       "1    0.0\n",
       "2    1.0\n",
       "3    0.0\n",
       "4    0.0\n",
       "Name: glossy_screen, dtype: float64"
      ]
     },
     "execution_count": 5,
     "metadata": {},
     "output_type": "execute_result"
    }
   ],
   "source": [
    "def add_glossy_screen_column(df):\n",
    "    surface = df['screen_surface'].str.lower()\n",
    "    surface = surface.replace({'' : np.nan, 'glossy' : 1, 'matte' : 0})\n",
    "    df['glossy_screen'] = surface\n",
    "\n",
    "df = X_train.copy()\n",
    "print(df.isnull().values.sum())\n",
    "add_glossy_screen_column(df)\n",
    "print(df.isnull().values.sum())\n",
    "df['glossy_screen'].head()"
   ]
  },
  {
   "cell_type": "markdown",
   "metadata": {},
   "source": [
    "#### Add `gpu_brand` column"
   ]
  },
  {
   "cell_type": "code",
   "execution_count": 6,
   "metadata": {},
   "outputs": [
    {
     "name": "stdout",
     "output_type": "stream",
     "text": [
      "25\n",
      "26\n"
     ]
    },
    {
     "data": {
      "text/plain": [
       "0      Intel\n",
       "1     NVIDIA\n",
       "2      Intel\n",
       "3      Intel\n",
       "4    PowerVR\n",
       "Name: gpu_brand, dtype: object"
      ]
     },
     "execution_count": 6,
     "metadata": {},
     "output_type": "execute_result"
    }
   ],
   "source": [
    "def add_gpu_brand_column(df):\n",
    "    df['gpu_brand'] = df['gpu'].str.split().str.get(0)\n",
    "    df['gpu_brand'] = df['gpu_brand'].replace({'Imagination': 'PowerVR'})\n",
    "\n",
    "df = X_train.copy()\n",
    "print(df.isnull().values.sum())\n",
    "add_gpu_brand_column(df)\n",
    "print(df.isnull().values.sum())\n",
    "df['gpu_brand'].head()"
   ]
  },
  {
   "cell_type": "markdown",
   "metadata": {},
   "source": [
    "#### Add `hdd` column"
   ]
  },
  {
   "cell_type": "code",
   "execution_count": 7,
   "metadata": {},
   "outputs": [
    {
     "data": {
      "text/plain": [
       "0    0\n",
       "1    0\n",
       "2    0\n",
       "3    0\n",
       "4    0\n",
       "Name: hdd, dtype: int64"
      ]
     },
     "execution_count": 7,
     "metadata": {},
     "output_type": "execute_result"
    }
   ],
   "source": [
    "def add_hdd_column(df):\n",
    "    df['hdd'] = df['storage'] - df['ssd']\n",
    "    df['hdd'] = pd.to_numeric(df['hdd'])\n",
    "\n",
    "df = X_train.copy()\n",
    "add_hdd_column(df)\n",
    "df['hdd'].head()"
   ]
  },
  {
   "cell_type": "markdown",
   "metadata": {},
   "source": [
    "#### Keep only feature columns"
   ]
  },
  {
   "cell_type": "code",
   "execution_count": 8,
   "metadata": {},
   "outputs": [],
   "source": [
    "boolean_features = ['glossy_screen', 'touchscreen', 'detachable_keyboard', 'discrete_gpu']\n",
    "categorical_features = ['brand', 'cpu', 'cpu_gen', 'gpu_brand', 'os_details']\n",
    "numerical_features = ['screen_size', 'pixels_x', 'screen_ratio', 'clock_speed', 'ram', 'ssd', 'hdd', 'weight']\n",
    "all_features = boolean_features + categorical_features + numerical_features\n",
    "\n",
    "def keep_only_feature_columns(df):\n",
    "    return df[all_features].replace({'': np.nan})\n",
    "    "
   ]
  },
  {
   "cell_type": "markdown",
   "metadata": {},
   "source": [
    "#### Define pipeline as a function"
   ]
  },
  {
   "cell_type": "code",
   "execution_count": 9,
   "metadata": {},
   "outputs": [],
   "source": [
    "def engineer_features(df):\n",
    "    add_screen_ratio_column(df)\n",
    "    add_clock_speed_column(df)\n",
    "    add_cpu_gen_column(df)\n",
    "    add_glossy_screen_column(df)\n",
    "    add_gpu_brand_column(df)\n",
    "    add_hdd_column(df)\n",
    "    return keep_only_feature_columns(df)\n",
    "    "
   ]
  },
  {
   "cell_type": "markdown",
   "metadata": {},
   "source": [
    "#### Run the pipeline on the training data"
   ]
  },
  {
   "cell_type": "code",
   "execution_count": 10,
   "metadata": {},
   "outputs": [
    {
     "data": {
      "text/html": [
       "<div>\n",
       "<style scoped>\n",
       "    .dataframe tbody tr th:only-of-type {\n",
       "        vertical-align: middle;\n",
       "    }\n",
       "\n",
       "    .dataframe tbody tr th {\n",
       "        vertical-align: top;\n",
       "    }\n",
       "\n",
       "    .dataframe thead th {\n",
       "        text-align: right;\n",
       "    }\n",
       "</style>\n",
       "<table border=\"1\" class=\"dataframe\">\n",
       "  <thead>\n",
       "    <tr style=\"text-align: right;\">\n",
       "      <th></th>\n",
       "      <th>glossy_screen</th>\n",
       "      <th>touchscreen</th>\n",
       "      <th>detachable_keyboard</th>\n",
       "      <th>discrete_gpu</th>\n",
       "      <th>brand</th>\n",
       "      <th>cpu</th>\n",
       "      <th>cpu_gen</th>\n",
       "      <th>gpu_brand</th>\n",
       "      <th>os_details</th>\n",
       "      <th>screen_size</th>\n",
       "      <th>pixels_x</th>\n",
       "      <th>screen_ratio</th>\n",
       "      <th>clock_speed</th>\n",
       "      <th>ram</th>\n",
       "      <th>ssd</th>\n",
       "      <th>hdd</th>\n",
       "      <th>weight</th>\n",
       "    </tr>\n",
       "  </thead>\n",
       "  <tbody>\n",
       "    <tr>\n",
       "      <th>0</th>\n",
       "      <td>0.0</td>\n",
       "      <td>0</td>\n",
       "      <td>0.0</td>\n",
       "      <td>0</td>\n",
       "      <td>Dell</td>\n",
       "      <td>Intel Core i5</td>\n",
       "      <td>10.0</td>\n",
       "      <td>Intel</td>\n",
       "      <td>Windows 10 Home</td>\n",
       "      <td>15.6</td>\n",
       "      <td>1920</td>\n",
       "      <td>1.777778</td>\n",
       "      <td>1.0</td>\n",
       "      <td>8</td>\n",
       "      <td>256</td>\n",
       "      <td>0</td>\n",
       "      <td>4.52</td>\n",
       "    </tr>\n",
       "    <tr>\n",
       "      <th>1</th>\n",
       "      <td>0.0</td>\n",
       "      <td>0</td>\n",
       "      <td>0.0</td>\n",
       "      <td>1</td>\n",
       "      <td>Asus</td>\n",
       "      <td>Intel Core i7</td>\n",
       "      <td>8.0</td>\n",
       "      <td>NVIDIA</td>\n",
       "      <td>Windows 10 Pro</td>\n",
       "      <td>15.6</td>\n",
       "      <td>1920</td>\n",
       "      <td>1.777778</td>\n",
       "      <td>2.2</td>\n",
       "      <td>16</td>\n",
       "      <td>512</td>\n",
       "      <td>0</td>\n",
       "      <td>5.00</td>\n",
       "    </tr>\n",
       "    <tr>\n",
       "      <th>2</th>\n",
       "      <td>1.0</td>\n",
       "      <td>0</td>\n",
       "      <td>0.0</td>\n",
       "      <td>0</td>\n",
       "      <td>Apple</td>\n",
       "      <td>Intel Core i5</td>\n",
       "      <td>5.0</td>\n",
       "      <td>Intel</td>\n",
       "      <td>OS X El Capitan</td>\n",
       "      <td>13.3</td>\n",
       "      <td>1440</td>\n",
       "      <td>1.600000</td>\n",
       "      <td>1.6</td>\n",
       "      <td>8</td>\n",
       "      <td>128</td>\n",
       "      <td>0</td>\n",
       "      <td>2.96</td>\n",
       "    </tr>\n",
       "    <tr>\n",
       "      <th>3</th>\n",
       "      <td>0.0</td>\n",
       "      <td>0</td>\n",
       "      <td>0.0</td>\n",
       "      <td>0</td>\n",
       "      <td>Asus</td>\n",
       "      <td>Intel Core m3</td>\n",
       "      <td>6.0</td>\n",
       "      <td>Intel</td>\n",
       "      <td>Windows 10</td>\n",
       "      <td>13.3</td>\n",
       "      <td>1920</td>\n",
       "      <td>1.777778</td>\n",
       "      <td>0.9</td>\n",
       "      <td>8</td>\n",
       "      <td>256</td>\n",
       "      <td>0</td>\n",
       "      <td>2.65</td>\n",
       "    </tr>\n",
       "    <tr>\n",
       "      <th>4</th>\n",
       "      <td>0.0</td>\n",
       "      <td>0</td>\n",
       "      <td>0.0</td>\n",
       "      <td>0</td>\n",
       "      <td>Lenovo</td>\n",
       "      <td>MediaTek</td>\n",
       "      <td>NaN</td>\n",
       "      <td>PowerVR</td>\n",
       "      <td>Chrome OS</td>\n",
       "      <td>11.6</td>\n",
       "      <td>1366</td>\n",
       "      <td>1.778646</td>\n",
       "      <td>2.1</td>\n",
       "      <td>4</td>\n",
       "      <td>16</td>\n",
       "      <td>0</td>\n",
       "      <td>2.68</td>\n",
       "    </tr>\n",
       "  </tbody>\n",
       "</table>\n",
       "</div>"
      ],
      "text/plain": [
       "   glossy_screen  touchscreen  detachable_keyboard  discrete_gpu   brand  \\\n",
       "0            0.0            0                  0.0             0    Dell   \n",
       "1            0.0            0                  0.0             1    Asus   \n",
       "2            1.0            0                  0.0             0   Apple   \n",
       "3            0.0            0                  0.0             0    Asus   \n",
       "4            0.0            0                  0.0             0  Lenovo   \n",
       "\n",
       "             cpu  cpu_gen gpu_brand       os_details  screen_size  pixels_x  \\\n",
       "0  Intel Core i5     10.0     Intel  Windows 10 Home         15.6      1920   \n",
       "1  Intel Core i7      8.0    NVIDIA   Windows 10 Pro         15.6      1920   \n",
       "2  Intel Core i5      5.0     Intel  OS X El Capitan         13.3      1440   \n",
       "3  Intel Core m3      6.0     Intel       Windows 10         13.3      1920   \n",
       "4       MediaTek      NaN   PowerVR        Chrome OS         11.6      1366   \n",
       "\n",
       "   screen_ratio  clock_speed  ram  ssd  hdd  weight  \n",
       "0      1.777778          1.0    8  256    0    4.52  \n",
       "1      1.777778          2.2   16  512    0    5.00  \n",
       "2      1.600000          1.6    8  128    0    2.96  \n",
       "3      1.777778          0.9    8  256    0    2.65  \n",
       "4      1.778646          2.1    4   16    0    2.68  "
      ]
     },
     "execution_count": 10,
     "metadata": {},
     "output_type": "execute_result"
    }
   ],
   "source": [
    "X_train = engineer_features(X_train)\n",
    "X_train.head()"
   ]
  },
  {
   "cell_type": "markdown",
   "metadata": {},
   "source": [
    "### Prepare data for training"
   ]
  },
  {
   "cell_type": "markdown",
   "metadata": {},
   "source": [
    "Now that we have defined the features we will use, we need to encode our categorical data using dummy encoding and also deal with missing values in our data. Here, we will need to define our transformations as a scikit-learn pipeline, so that we can fit it to the data while training (and have it learn eg. the mean value that we will use for imputing missing data) and reuse it during testing and for our actual predictions."
   ]
  },
  {
   "cell_type": "code",
   "execution_count": 11,
   "metadata": {},
   "outputs": [],
   "source": [
    "from sklearn.preprocessing import StandardScaler, OneHotEncoder\n",
    "from sklearn.impute import SimpleImputer\n",
    "from sklearn.compose import ColumnTransformer\n",
    "from sklearn.pipeline import Pipeline\n",
    "\n",
    "# one_hot_encoder = OneHotEncoder(categories = *Not \"auto\"*, drop = 'first', handle_unknown = 'error')\n",
    "# To use the above setting, we must first gather all the possible values for our categorical features\n",
    "one_hot_encoder = OneHotEncoder(categories = 'auto', drop = None, handle_unknown = 'ignore')\n",
    "most_frequent_imputer = SimpleImputer(missing_values = np.nan, strategy = 'most_frequent', \n",
    "                                             add_indicator = True)\n",
    "median_imputer = SimpleImputer(missing_values = np.nan, strategy = 'median', \n",
    "                                      add_indicator = True)\n",
    "\n",
    "numeric_transformer = Pipeline(steps=[\n",
    "    ('imputer', median_imputer),\n",
    "#    ('scaler', StandardScaler())\n",
    "])\n",
    "\n",
    "categorical_transformer = Pipeline(steps=[\n",
    "    ('imputer', most_frequent_imputer),\n",
    "    ('onehot', one_hot_encoder)\n",
    "])\n",
    "\n",
    "boolean_transformer = Pipeline(steps=[\n",
    "    ('imputer', most_frequent_imputer)\n",
    "])\n",
    "\n",
    "preprocessor = ColumnTransformer(\n",
    "    transformers=[\n",
    "        ('num', numeric_transformer, numerical_features),\n",
    "        ('cat', categorical_transformer, categorical_features),\n",
    "        ('bool', boolean_transformer, boolean_features)\n",
    "    ])"
   ]
  },
  {
   "cell_type": "markdown",
   "metadata": {},
   "source": [
    "### Train a classifier"
   ]
  },
  {
   "cell_type": "code",
   "execution_count": 12,
   "metadata": {},
   "outputs": [
    {
     "data": {
      "text/plain": [
       "Pipeline(memory=None,\n",
       "         steps=[('preprocessor',\n",
       "                 ColumnTransformer(n_jobs=None, remainder='drop',\n",
       "                                   sparse_threshold=0.3,\n",
       "                                   transformer_weights=None,\n",
       "                                   transformers=[('num',\n",
       "                                                  Pipeline(memory=None,\n",
       "                                                           steps=[('imputer',\n",
       "                                                                   SimpleImputer(add_indicator=True,\n",
       "                                                                                 copy=True,\n",
       "                                                                                 fill_value=None,\n",
       "                                                                                 missing_values=nan,\n",
       "                                                                                 strategy='median',\n",
       "                                                                                 verbose=0)),\n",
       "                                                                  ('scaler',\n",
       "                                                                   StandardScaler(copy=True,\n",
       "                                                                                  with_mean=...\n",
       "                 RandomForestRegressor(bootstrap=True, ccp_alpha=0.0,\n",
       "                                       criterion='mae', max_depth=None,\n",
       "                                       max_features='auto', max_leaf_nodes=None,\n",
       "                                       max_samples=None,\n",
       "                                       min_impurity_decrease=0.0,\n",
       "                                       min_impurity_split=None,\n",
       "                                       min_samples_leaf=1, min_samples_split=2,\n",
       "                                       min_weight_fraction_leaf=0.0,\n",
       "                                       n_estimators=200, n_jobs=-1,\n",
       "                                       oob_score=False, random_state=None,\n",
       "                                       verbose=0, warm_start=False))],\n",
       "         verbose=False)"
      ]
     },
     "execution_count": 12,
     "metadata": {},
     "output_type": "execute_result"
    }
   ],
   "source": [
    "# from sklearn.linear_model import LogisticRegression\n",
    "# from sklearn.multioutput import MultiOutputRegressor\n",
    "# # Note that random forests etc. don't need this MultiOutputRegressor\n",
    "\n",
    "# base_clf = LogisticRegression()\n",
    "\n",
    "# Logistic regression was giving me some trouble with the labels (ValueError: Unknown label type: 'continuous')\n",
    "\n",
    "from sklearn.ensemble import RandomForestRegressor\n",
    "\n",
    "regressor = RandomForestRegressor(n_estimators = 200, criterion = \"mae\", n_jobs = -1)\n",
    "\n",
    "clf = Pipeline(steps=[('preprocessor', preprocessor),\n",
    "                      ('classifier', regressor)])\n",
    "\n",
    "clf.fit(X_train, y_train)"
   ]
  },
  {
   "cell_type": "markdown",
   "metadata": {},
   "source": [
    "## Evaluation"
   ]
  },
  {
   "cell_type": "markdown",
   "metadata": {},
   "source": [
    "### Prepare the test data"
   ]
  },
  {
   "cell_type": "code",
   "execution_count": 13,
   "metadata": {},
   "outputs": [
    {
     "data": {
      "text/html": [
       "<div>\n",
       "<style scoped>\n",
       "    .dataframe tbody tr th:only-of-type {\n",
       "        vertical-align: middle;\n",
       "    }\n",
       "\n",
       "    .dataframe tbody tr th {\n",
       "        vertical-align: top;\n",
       "    }\n",
       "\n",
       "    .dataframe thead th {\n",
       "        text-align: right;\n",
       "    }\n",
       "</style>\n",
       "<table border=\"1\" class=\"dataframe\">\n",
       "  <thead>\n",
       "    <tr style=\"text-align: right;\">\n",
       "      <th></th>\n",
       "      <th>glossy_screen</th>\n",
       "      <th>touchscreen</th>\n",
       "      <th>detachable_keyboard</th>\n",
       "      <th>discrete_gpu</th>\n",
       "      <th>brand</th>\n",
       "      <th>cpu</th>\n",
       "      <th>cpu_gen</th>\n",
       "      <th>gpu_brand</th>\n",
       "      <th>os_details</th>\n",
       "      <th>screen_size</th>\n",
       "      <th>pixels_x</th>\n",
       "      <th>screen_ratio</th>\n",
       "      <th>clock_speed</th>\n",
       "      <th>ram</th>\n",
       "      <th>ssd</th>\n",
       "      <th>hdd</th>\n",
       "      <th>weight</th>\n",
       "    </tr>\n",
       "  </thead>\n",
       "  <tbody>\n",
       "    <tr>\n",
       "      <th>0</th>\n",
       "      <td>1.0</td>\n",
       "      <td>1</td>\n",
       "      <td>0.0</td>\n",
       "      <td>0</td>\n",
       "      <td>Microsoft</td>\n",
       "      <td>Intel Core i5</td>\n",
       "      <td>7.0</td>\n",
       "      <td>Intel</td>\n",
       "      <td>Windows 10 S</td>\n",
       "      <td>13.5</td>\n",
       "      <td>2256</td>\n",
       "      <td>1.500000</td>\n",
       "      <td>2.5</td>\n",
       "      <td>8</td>\n",
       "      <td>256</td>\n",
       "      <td>0</td>\n",
       "      <td>2.76</td>\n",
       "    </tr>\n",
       "    <tr>\n",
       "      <th>1</th>\n",
       "      <td>1.0</td>\n",
       "      <td>1</td>\n",
       "      <td>0.0</td>\n",
       "      <td>0</td>\n",
       "      <td>Dell</td>\n",
       "      <td>AMD A6</td>\n",
       "      <td>7.0</td>\n",
       "      <td>AMD</td>\n",
       "      <td>Windows 10 Home</td>\n",
       "      <td>11.6</td>\n",
       "      <td>1366</td>\n",
       "      <td>1.778646</td>\n",
       "      <td>1.6</td>\n",
       "      <td>4</td>\n",
       "      <td>32</td>\n",
       "      <td>0</td>\n",
       "      <td>3.41</td>\n",
       "    </tr>\n",
       "    <tr>\n",
       "      <th>2</th>\n",
       "      <td>1.0</td>\n",
       "      <td>1</td>\n",
       "      <td>1.0</td>\n",
       "      <td>1</td>\n",
       "      <td>Microsoft</td>\n",
       "      <td>Intel Core i7</td>\n",
       "      <td>8.0</td>\n",
       "      <td>NVIDIA</td>\n",
       "      <td>Windows 10 Pro</td>\n",
       "      <td>13.5</td>\n",
       "      <td>3000</td>\n",
       "      <td>1.500000</td>\n",
       "      <td>1.9</td>\n",
       "      <td>16</td>\n",
       "      <td>512</td>\n",
       "      <td>0</td>\n",
       "      <td>3.62</td>\n",
       "    </tr>\n",
       "    <tr>\n",
       "      <th>3</th>\n",
       "      <td>1.0</td>\n",
       "      <td>1</td>\n",
       "      <td>0.0</td>\n",
       "      <td>1</td>\n",
       "      <td>Razer</td>\n",
       "      <td>Intel Core i7</td>\n",
       "      <td>8.0</td>\n",
       "      <td>NVIDIA</td>\n",
       "      <td>Windows 10 Home</td>\n",
       "      <td>13.3</td>\n",
       "      <td>3840</td>\n",
       "      <td>1.777778</td>\n",
       "      <td>1.8</td>\n",
       "      <td>16</td>\n",
       "      <td>512</td>\n",
       "      <td>0</td>\n",
       "      <td>3.04</td>\n",
       "    </tr>\n",
       "    <tr>\n",
       "      <th>4</th>\n",
       "      <td>1.0</td>\n",
       "      <td>0</td>\n",
       "      <td>NaN</td>\n",
       "      <td>0</td>\n",
       "      <td>Apple</td>\n",
       "      <td>Intel Core i5</td>\n",
       "      <td>5.0</td>\n",
       "      <td>Intel</td>\n",
       "      <td>OS X Yosemite</td>\n",
       "      <td>11.6</td>\n",
       "      <td>1366</td>\n",
       "      <td>1.778646</td>\n",
       "      <td>1.6</td>\n",
       "      <td>4</td>\n",
       "      <td>128</td>\n",
       "      <td>0</td>\n",
       "      <td>2.38</td>\n",
       "    </tr>\n",
       "  </tbody>\n",
       "</table>\n",
       "</div>"
      ],
      "text/plain": [
       "   glossy_screen  touchscreen  detachable_keyboard  discrete_gpu      brand  \\\n",
       "0            1.0            1                  0.0             0  Microsoft   \n",
       "1            1.0            1                  0.0             0       Dell   \n",
       "2            1.0            1                  1.0             1  Microsoft   \n",
       "3            1.0            1                  0.0             1      Razer   \n",
       "4            1.0            0                  NaN             0      Apple   \n",
       "\n",
       "             cpu  cpu_gen gpu_brand       os_details  screen_size  pixels_x  \\\n",
       "0  Intel Core i5      7.0     Intel     Windows 10 S         13.5      2256   \n",
       "1         AMD A6      7.0       AMD  Windows 10 Home         11.6      1366   \n",
       "2  Intel Core i7      8.0    NVIDIA   Windows 10 Pro         13.5      3000   \n",
       "3  Intel Core i7      8.0    NVIDIA  Windows 10 Home         13.3      3840   \n",
       "4  Intel Core i5      5.0     Intel    OS X Yosemite         11.6      1366   \n",
       "\n",
       "   screen_ratio  clock_speed  ram  ssd  hdd  weight  \n",
       "0      1.500000          2.5    8  256    0    2.76  \n",
       "1      1.778646          1.6    4   32    0    3.41  \n",
       "2      1.500000          1.9   16  512    0    3.62  \n",
       "3      1.777778          1.8   16  512    0    3.04  \n",
       "4      1.778646          1.6    4  128    0    2.38  "
      ]
     },
     "execution_count": 13,
     "metadata": {},
     "output_type": "execute_result"
    }
   ],
   "source": [
    "X_test = engineer_features(X_test)\n",
    "X_test.head()"
   ]
  },
  {
   "cell_type": "markdown",
   "metadata": {},
   "source": [
    "### Evalute the classifier"
   ]
  },
  {
   "cell_type": "code",
   "execution_count": 17,
   "metadata": {},
   "outputs": [
    {
     "data": {
      "text/plain": [
       "152.42513615196071"
      ]
     },
     "execution_count": 17,
     "metadata": {},
     "output_type": "execute_result"
    }
   ],
   "source": [
    "from sklearn.metrics import mean_absolute_error\n",
    "\n",
    "mean_absolute_error(y_test, clf.predict(X_test))"
   ]
  }
 ],
 "metadata": {
  "kernelspec": {
   "display_name": "Python 3",
   "language": "python",
   "name": "python3"
  },
  "language_info": {
   "codemirror_mode": {
    "name": "ipython",
    "version": 3
   },
   "file_extension": ".py",
   "mimetype": "text/x-python",
   "name": "python",
   "nbconvert_exporter": "python",
   "pygments_lexer": "ipython3",
   "version": "3.6.9"
  }
 },
 "nbformat": 4,
 "nbformat_minor": 4
}
