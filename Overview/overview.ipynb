{
 "cells": [
  {
   "cell_type": "code",
   "execution_count": 52,
   "metadata": {},
   "outputs": [],
   "source": [
    "import numpy as np \n",
    "import scipy as sp\n",
    "import matplotlib as mpl\n",
    "import matplotlib.pyplot as plt\n",
    "import pandas as pd\n",
    "import seaborn as sns\n",
    "import sklearn\n",
    " "
   ]
  },
  {
   "cell_type": "code",
   "execution_count": 27,
   "metadata": {},
   "outputs": [],
   "source": [
    "trainData = pd.read_csv(\"train.csv\", index_col=0, header=0)"
   ]
  },
  {
   "cell_type": "code",
   "execution_count": 28,
   "metadata": {},
   "outputs": [
    {
     "name": "stdout",
     "output_type": "stream",
     "text": [
      "<class 'pandas.core.frame.DataFrame'>\n"
     ]
    }
   ],
   "source": [
    "print(type(trainData))"
   ]
  },
  {
   "cell_type": "code",
   "execution_count": 29,
   "metadata": {},
   "outputs": [
    {
     "name": "stdout",
     "output_type": "stream",
     "text": [
      "                                                    name   brand  \\\n",
      "id                                                                 \n",
      "7774   Lenovo Flex 3 15.6-Inch Touchscreen Laptop (Co...  Lenovo   \n",
      "25926  Razer Blade 15 Gaming Laptop: Intel Core i7-87...   Razer   \n",
      "25267  Hp 15.6 Inch HD Thin and Light Laptop ( 7th Ge...      HP   \n",
      "22367  Acer Aspire E 15, 15.6\" Full HD, 8th Gen Intel...    Acer   \n",
      "17471  HP 17.3 inch (1600 x 900) HD+ Laptop PC, Intel...      HP   \n",
      "\n",
      "                      base_name  screen_size  pixels_x  pixels_y  \\\n",
      "id                                                                 \n",
      "7774   Lenovo Flex 3 80JM002CUS         15.6      1920      1080   \n",
      "25926            Razer Blade 15         15.6      1920      1080   \n",
      "25267                        HP         15.6      1366       768   \n",
      "22367        Acer Aspire E5-576         15.6      1920      1080   \n",
      "17471                     HP 17         17.3      1600       900   \n",
      "\n",
      "      screen_surface  touchscreen            cpu  \\\n",
      "id                                                 \n",
      "7774          Glossy            1  Intel Core i7   \n",
      "25926          Matte            0  Intel Core i7   \n",
      "25267            NaN            0         AMD A6   \n",
      "22367          Matte            0  Intel Core i3   \n",
      "17471         Glossy            0  Intel Core i5   \n",
      "\n",
      "                                             cpu_details  ...  discrete_gpu  \\\n",
      "id                                                        ...                 \n",
      "7774   Intel Core i7-5500U 2.40 GHz (5th gen Broadwel...  ...             0   \n",
      "25926  Intel Core i7-8750H 2.2 GHz (8th gen Coffee La...  ...             1   \n",
      "25267  AMD A6-9220 2.5 GHz (7th gen Stoney Ridge Dual...  ...             0   \n",
      "22367  Intel Core i3-8130U 2.2 GHz (8th gen Kaby Lake...  ...             0   \n",
      "17471  Intel Core i5-7200U 2.5 GHz (7th gen Kaby Lake...  ...             0   \n",
      "\n",
      "                                 gpu       os       os_details ram  ssd  \\\n",
      "id                                                                        \n",
      "7774                        Intel HD  Windows       Windows 10   8    0   \n",
      "25926  NVIDIA GeForce RTX 2070 Max-Q  Windows  Windows 10 Home  16  512   \n",
      "25267                  AMD Radeon R4  Windows       Windows 10   8    0   \n",
      "22367                  Intel UHD 620  Windows  Windows 10 Home   6    0   \n",
      "17471                   Intel HD 620  Windows       Windows 10   8    0   \n",
      "\n",
      "       storage  weight  min_price  max_price  \n",
      "id                                            \n",
      "7774      1000    4.60     899.00     899.00  \n",
      "25926      512    4.63    2099.99    2099.99  \n",
      "25267      500    4.63     439.00     449.00  \n",
      "22367     1000    5.30     375.00     449.00  \n",
      "17471     1000    5.80     559.00     559.00  \n",
      "\n",
      "[5 rows x 21 columns]\n"
     ]
    }
   ],
   "source": [
    "print(trainData.head())"
   ]
  },
  {
   "cell_type": "code",
   "execution_count": 47,
   "metadata": {},
   "outputs": [],
   "source": [
    "testData = pd.read_csv(\"test.csv\", index_col=0, header=0)"
   ]
  },
  {
   "cell_type": "code",
   "execution_count": 48,
   "metadata": {},
   "outputs": [
    {
     "name": "stdout",
     "output_type": "stream",
     "text": [
      "<class 'pandas.core.frame.DataFrame'>\n"
     ]
    }
   ],
   "source": [
    "print(type(testData))"
   ]
  },
  {
   "cell_type": "code",
   "execution_count": 49,
   "metadata": {},
   "outputs": [
    {
     "name": "stdout",
     "output_type": "stream",
     "text": [
      "                                                    name brand  \\\n",
      "id                                                               \n",
      "28807  ASUS ZenBook Flip S Touchscreen Convertible La...  Asus   \n",
      "22559  Dell Inspiron 15 Intel Core i3-7130U 8GB 1TB H...  Dell   \n",
      "28647  Asus Vivobook S15 S512 Thin and Light 15.6â€ ...  Asus   \n",
      "22141  HP 15.6\" HD Touchscreen Laptop PC, Intel Core ...    HP   \n",
      "26116  MSI GS75 Stealth-093 17.3\" Razor Thin Bezel Ga...   MSI   \n",
      "\n",
      "                         base_name  screen_size  pixels_x  pixels_y  \\\n",
      "id                                                                    \n",
      "28807  Asus ZenBook Flip S UX370UA         13.3    1920.0    1080.0   \n",
      "22559           Dell Inspiron 3567         15.6    1366.0     768.0   \n",
      "28647         Asus VivoBook S512FA         15.6    1920.0    1080.0   \n",
      "22141                           HP         15.6    1366.0     768.0   \n",
      "26116             MSI GS75 Stealth         17.3    1920.0    1080.0   \n",
      "\n",
      "      screen_surface  touchscreen            cpu  \\\n",
      "id                                                 \n",
      "28807         Glossy            1  Intel Core i7   \n",
      "22559          Matte            0  Intel Core i3   \n",
      "28647          Matte            0  Intel Core i7   \n",
      "22141         Glossy            1  Intel Core i5   \n",
      "26116          Matte            0  Intel Core i7   \n",
      "\n",
      "                                             cpu_details  detachable_keyboard  \\\n",
      "id                                                                              \n",
      "28807  Intel Core i7-8550U 1.8 GHz (8th gen Kaby Lake...                    0   \n",
      "22559  Intel Core i3-7130U 2.7 GHz (7th gen Kaby Lake...                    0   \n",
      "28647  Intel Core i7-8565U 1.8 GHz (8th gen Whiskey L...                    0   \n",
      "22141  Intel Core i5-7200U 2.5 GHz (7th gen Kaby Lake...                    0   \n",
      "26116  Intel Core i7-8750H 2.2 GHz (8th gen Coffee La...                    0   \n",
      "\n",
      "       discrete_gpu                            gpu       os       os_details  \\\n",
      "id                                                                             \n",
      "28807             0                  Intel UHD 620  Windows   Windows 10 Pro   \n",
      "22559             0                   Intel HD 620  Windows  Windows 10 Home   \n",
      "28647             0                  Intel UHD 620  Windows  Windows 10 Home   \n",
      "22141             0                   Intel HD 620  Windows  Windows 10 Home   \n",
      "26116             1  NVIDIA GeForce RTX 2080 Max-Q  Windows  Windows 10 Home   \n",
      "\n",
      "       ram  ssd  storage  weight  \n",
      "id                                \n",
      "28807   16  512      512    2.42  \n",
      "22559    8    0     1000    4.95  \n",
      "28647    8  256     1256    4.00  \n",
      "22141    8  128     2128    4.52  \n",
      "26116   32  512      512    4.96  \n"
     ]
    }
   ],
   "source": [
    "print(testData.head())"
   ]
  },
  {
   "cell_type": "code",
   "execution_count": 34,
   "metadata": {},
   "outputs": [],
   "source": [
    "missing_val_count_by_col = (trainData.isnull().sum())"
   ]
  },
  {
   "cell_type": "code",
   "execution_count": 35,
   "metadata": {},
   "outputs": [
    {
     "name": "stdout",
     "output_type": "stream",
     "text": [
      "name                    0\n",
      "brand                   0\n",
      "base_name               0\n",
      "screen_size             0\n",
      "pixels_x                0\n",
      "pixels_y                0\n",
      "screen_surface         12\n",
      "touchscreen             0\n",
      "cpu                     0\n",
      "cpu_details             6\n",
      "detachable_keyboard     4\n",
      "discrete_gpu            0\n",
      "gpu                     2\n",
      "os                      2\n",
      "os_details              2\n",
      "ram                     0\n",
      "ssd                     0\n",
      "storage                 0\n",
      "weight                  4\n",
      "min_price               0\n",
      "max_price               0\n",
      "dtype: int64\n"
     ]
    }
   ],
   "source": [
    "print(missing_val_count_by_col)"
   ]
  },
  {
   "cell_type": "code",
   "execution_count": 50,
   "metadata": {},
   "outputs": [],
   "source": [
    "missing_val_by_col_test_data = (testData.isnull().sum())"
   ]
  },
  {
   "cell_type": "code",
   "execution_count": 51,
   "metadata": {},
   "outputs": [
    {
     "name": "stdout",
     "output_type": "stream",
     "text": [
      "name                   0\n",
      "brand                  0\n",
      "base_name              0\n",
      "screen_size            0\n",
      "pixels_x               2\n",
      "pixels_y               2\n",
      "screen_surface         4\n",
      "touchscreen            0\n",
      "cpu                    0\n",
      "cpu_details            0\n",
      "detachable_keyboard    0\n",
      "discrete_gpu           0\n",
      "gpu                    0\n",
      "os                     0\n",
      "os_details             0\n",
      "ram                    0\n",
      "ssd                    0\n",
      "storage                0\n",
      "weight                 1\n",
      "dtype: int64\n"
     ]
    }
   ],
   "source": [
    "print(missing_val_by_col_test_data)"
   ]
  },
  {
   "cell_type": "code",
   "execution_count": 44,
   "metadata": {},
   "outputs": [],
   "source": []
  },
  {
   "cell_type": "code",
   "execution_count": 45,
   "metadata": {},
   "outputs": [],
   "source": []
  },
  {
   "cell_type": "code",
   "execution_count": null,
   "metadata": {},
   "outputs": [],
   "source": []
  },
  {
   "cell_type": "code",
   "execution_count": null,
   "metadata": {},
   "outputs": [],
   "source": []
  }
 ],
 "metadata": {
  "kernelspec": {
   "display_name": "Python 3",
   "language": "python",
   "name": "python3"
  },
  "language_info": {
   "codemirror_mode": {
    "name": "ipython",
    "version": 3
   },
   "file_extension": ".py",
   "mimetype": "text/x-python",
   "name": "python",
   "nbconvert_exporter": "python",
   "pygments_lexer": "ipython3",
   "version": "3.8.1"
  }
 },
 "nbformat": 4,
 "nbformat_minor": 4
}
